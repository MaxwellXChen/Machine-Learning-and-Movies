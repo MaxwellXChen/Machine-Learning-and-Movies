{
 "cells": [
  {
   "cell_type": "code",
   "execution_count": 32,
   "metadata": {
    "ExecuteTime": {
     "end_time": "2019-06-22T17:18:34.536577Z",
     "start_time": "2019-06-22T17:18:34.485825Z"
    },
    "colab": {},
    "colab_type": "code",
    "id": "XMefd5nTi4Zv",
    "run_control": {
     "frozen": false,
     "read_only": false
    }
   },
   "outputs": [],
   "source": [
    "import os\n",
    "from scipy import ndimage, misc\n",
    "from matplotlib import pyplot as plt\n",
    "import numpy as np\n",
    "import pandas as pd\n",
    "from sklearn.feature_selection import SelectKBest\n",
    "from sklearn.feature_selection import RFE\n",
    "from sklearn.linear_model import LogisticRegression\n",
    "from sklearn.linear_model import Ridge\n",
    "\n"
   ]
  },
  {
   "cell_type": "code",
   "execution_count": 42,
   "metadata": {},
   "outputs": [
    {
     "name": "stdout",
     "output_type": "stream",
     "text": [
      "(6083, 13)\n",
      "Fitting estimator with 11 features.\n",
      "Fitting estimator with 10 features.\n",
      "Fitting estimator with 9 features.\n",
      "Fitting estimator with 8 features.\n",
      "Fitting estimator with 7 features.\n",
      "Fitting estimator with 6 features.\n",
      "Num Features: 5\n",
      "Selected Features: [False False  True  True  True  True False False False False  True]\n",
      "Feature Ranking: [2 3 1 1 1 1 4 5 6 7 1]\n"
     ]
    }
   ],
   "source": [
    "data = pd.read_csv('movieData.csv')\n",
    "data.head()\n",
    "\n",
    "\n",
    "dataArray = data.values\n",
    "array = np.zeros((dataArray.shape[0], dataArray.shape[1]-2))\n",
    "print(np.shape(array))\n",
    "X = dataArray[:,(2, 3, 4, 5, 6, 7, 8, 9, 10, 11, 12)]\n",
    "X = X.astype('double')\n",
    "Y = dataArray[:,7]\n",
    "Y = Y.astype('int')\n",
    "\n",
    "\"\"\"\n",
    "# Reverse Feature Selection with Logistic Regression\n",
    "model = LogisticRegression()\n",
    "rfe = RFE(model, 1, verbose = 1)\n",
    "fit = rfe.fit(X, Y)\n",
    "print(\"Num Features: %s\" % (fit.n_features_))\n",
    "print(\"Selected Features: %s\" % (fit.support_))\n",
    "print(\"Feature Ranking: %s\" % (fit.ranking_))\n",
    "\"\"\"\n",
    "\n",
    "# Reverse Feature Selection with Ridge Regression\n",
    "model = Ridge(normalize=True)\n",
    "rfe = RFE(model, n_features_to_select = 5, verbose = 1)\n",
    "fit = rfe.fit(X, Y)\n",
    "print(\"Num Features: %s\" % (fit.n_features_))\n",
    "print(\"Selected Features: %s\" % (fit.support_))\n",
    "print(\"Feature Ranking: %s\" % (fit.ranking_))\n"
   ]
  }
 ],
 "metadata": {
  "accelerator": "TPU",
  "colab": {
   "collapsed_sections": [],
   "name": "HW3_student_v4.ipynb",
   "provenance": []
  },
  "interpreter": {
   "hash": "f92044c759060aa9415554cca52d08b8cabe1752aed1786f0486d8d814e0857f"
  },
  "kernelspec": {
   "display_name": "Python 3.8.8 64-bit ('base': conda)",
   "name": "python3"
  },
  "language_info": {
   "codemirror_mode": {
    "name": "ipython",
    "version": 3
   },
   "file_extension": ".py",
   "mimetype": "text/x-python",
   "name": "python",
   "nbconvert_exporter": "python",
   "pygments_lexer": "ipython3",
   "version": "3.8.8"
  },
  "latex_envs": {
   "LaTeX_envs_menu_present": true,
   "autocomplete": true,
   "bibliofile": "biblio.bib",
   "cite_by": "apalike",
   "current_citInitial": 1,
   "eqLabelWithNumbers": true,
   "eqNumInitial": 1,
   "hotkeys": {
    "equation": "Ctrl-E",
    "itemize": "Ctrl-I"
   },
   "labels_anchors": false,
   "latex_user_defs": false,
   "report_style_numbering": false,
   "user_envs_cfg": false
  }
 },
 "nbformat": 4,
 "nbformat_minor": 1
}
