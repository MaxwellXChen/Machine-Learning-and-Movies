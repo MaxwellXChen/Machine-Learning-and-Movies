{
 "cells": [
  {
   "cell_type": "code",
   "execution_count": 79,
   "metadata": {
    "ExecuteTime": {
     "end_time": "2019-06-22T17:18:34.536577Z",
     "start_time": "2019-06-22T17:18:34.485825Z"
    },
    "colab": {},
    "colab_type": "code",
    "id": "XMefd5nTi4Zv",
    "run_control": {
     "frozen": false,
     "read_only": false
    }
   },
   "outputs": [],
   "source": [
    "import os\n",
    "from scipy import ndimage, misc\n",
    "from matplotlib import pyplot as plt\n",
    "import numpy as np\n",
    "import pandas as pd\n",
    "from sklearn.feature_selection import SelectKBest\n",
    "from sklearn.feature_selection import RFE\n",
    "from sklearn.linear_model import LogisticRegression\n",
    "from sklearn.linear_model import Ridge\n",
    "from sklearn.feature_selection import SequentialFeatureSelector as SFS\n",
    "\n"
   ]
  },
  {
   "cell_type": "code",
   "execution_count": 82,
   "metadata": {},
   "outputs": [
    {
     "name": "stdout",
     "output_type": "stream",
     "text": [
      "year\n",
      "genre\n",
      "duration\n",
      "country\n",
      "language\n",
      "votes\n",
      "budget\n",
      "usa_gross_income\n",
      "worlwide_gross_income\n",
      "metascore\n",
      "(6083, 13)\n",
      "Fitting estimator with 9 features.\n",
      "Fitting estimator with 8 features.\n",
      "Fitting estimator with 7 features.\n",
      "Fitting estimator with 6 features.\n",
      "Fitting estimator with 5 features.\n",
      "Fitting estimator with 4 features.\n",
      "Fitting estimator with 3 features.\n",
      "Fitting estimator with 2 features.\n",
      "None\n",
      "['year' 'genre' 'duration' 'country' 'language' 'votes' 'budget'\n",
      " 'usa_gross_income' 'worlwide_gross_income']\n",
      "Features selected by forward sequential selection: ['duration' 'votes' 'budget' 'usa_gross_income']\n"
     ]
    }
   ],
   "source": [
    "data = pd.read_csv('movieData.csv')\n",
    "headers = data.head()\n",
    "\n",
    "headers = list(data.columns)\n",
    "for i in (2, 3, 4, 5, 6, 8, 9, 10, 11, 12) :\n",
    "    print(headers[i])\n",
    "\n",
    "#Prepare Average Vote\n",
    "dataArray = data.values\n",
    "array = np.zeros((dataArray.shape[0], dataArray.shape[1]-2))\n",
    "print(np.shape(array))\n",
    "X = dataArray[:,(2, 3, 4, 5, 6, 8, 9, 10, 11)]\n",
    "X = X.astype('double')\n",
    "Y = dataArray[:,7]\n",
    "Y = Y.astype('int')\n",
    "\n",
    "\"\"\"\n",
    "# Reverse Feature Selection with Logistic Regression\n",
    "model = LogisticRegression()\n",
    "rfe = RFE(model, 1, verbose = 1)\n",
    "fit = rfe.fit(X, Y)\n",
    "print(\"Num Features: %s\" % (fit.n_features_))\n",
    "print(\"Selected Features: %s\" % (fit.support_))\n",
    "print(\"Feature Ranking: %s\" % (fit.ranking_))\n",
    "\"\"\"\n",
    "\n",
    "# Recursive Feature Elimination with Ridge Regression\n",
    "model = Ridge(normalize=True)\n",
    "rfe = RFE(model, n_features_to_select = 1, verbose = 1)\n",
    "fit = rfe.fit(X, Y)\n",
    "#print(\"Num Features: %s\" % (fit.n_features_))\n",
    "#print(\"Selected Features: %s\" % (fit.support_))\n",
    "#print(\"Feature Ranking: %s\" % (fit.ranking_))\n",
    "\n",
    "\n",
    "sfs_forward = SFS(model.fit(X,Y), n_features_to_select=4, direction=\"forward\").fit(X, y)\n",
    "scores = sfs_forward\n",
    "print(scores)\n",
    "feature_names = np.array(data.columns)\n",
    "feature_names = feature_names[np.array([2, 3, 4, 5, 6, 8, 9, 10, 11])]\n",
    "print(feature_names)\n",
    "print(\n",
    "    \"Features selected by forward sequential selection: \"\n",
    "    f\"{feature_names[sfs_forward.get_support()]}\"\n",
    ")\n",
    "\n",
    "\n",
    "\n",
    "\n",
    "\n"
   ]
  },
  {
   "cell_type": "code",
   "execution_count": 105,
   "metadata": {},
   "outputs": [],
   "source": [
    "\n",
    "import matplotlib.pyplot as plt\n",
    "plt.rcParams[\"figure.figsize\"] = (18,4)\n"
   ]
  },
  {
   "cell_type": "code",
   "execution_count": 124,
   "metadata": {},
   "outputs": [
    {
     "name": "stdout",
     "output_type": "stream",
     "text": [
      "(6083, 13)\n"
     ]
    },
    {
     "data": {
      "image/png": "[encoded data removed]",
      "text/plain": [
       "<Figure size 1296x288 with 1 Axes>"
      ]
     },
     "metadata": {
      "needs_background": "light"
     },
     "output_type": "display_data"
    },
    {
     "name": "stdout",
     "output_type": "stream",
     "text": [
      "Features selected by SelectFromModel: ['votes' 'budget']\n",
      "Features selected by forward sequential selection: ['duration' 'votes' 'worlwide_gross_income']\n",
      "Features selected by backward sequential selection: ['duration' 'votes' 'budget']\n"
     ]
    }
   ],
   "source": [
    "\n",
    "import matplotlib.pyplot as plt\n",
    "import numpy as np\n",
    "from sklearn.linear_model import LassoCV\n",
    "from sklearn.feature_selection import SelectFromModel as SFM\n",
    "from sklearn.feature_selection import SequentialFeatureSelector as SFS\n",
    "\n",
    "#Initialize Data\n",
    "\n",
    "data = pd.read_csv('movieData.csv')\n",
    "dataArray = data.values\n",
    "print(np.shape(array))\n",
    "X = dataArray[0:100,(3, 4, 5, 6, 8, 9, 10, 11)]\n",
    "X = X.astype('double') / X.max(axis=0)\n",
    "Y = dataArray[0:100,7]\n",
    "Y = Y.astype('double') / Y.max(axis=0)\n",
    "\n",
    "#LassoCV Fit\n",
    "lasso = LassoCV().fit(X, Y)\n",
    "importance = np.abs(lasso.coef_)\n",
    "feature_names = np.array(headers)[np.array([3, 4, 5, 6, 8, 9, 10, 11])]\n",
    "\n",
    "plt.bar(height=importance, x=feature_names)\n",
    "plt.title(\"Feature importances via coefficients\")\n",
    "plt.show()\n",
    "\n",
    "thresh = np.sort(importance)[-3] + 0.01\n",
    "\n",
    "sfm = SFM(lasso, threshold=thresh).fit(X, Y)\n",
    "print(f\"Features selected by SelectFromModel: {feature_names[sfm.get_support()]}\")\n",
    "\n",
    "\n",
    "sfs_forward = SFS(lasso, n_features_to_select=3, direction=\"forward\").fit(X, Y)\n",
    "\n",
    "sfs_backward = SFS(lasso, n_features_to_select=3, direction=\"backward\").fit(X, Y)\n",
    "\n",
    "print(\"Features selected by forward sequential selection: \" f\"{feature_names[sfs_forward.get_support()]}\")\n",
    "\n",
    "print(\"Features selected by backward sequential selection: \" f\"{feature_names[sfs_backward.get_support()]}\")\n",
    "\n",
    "\n"
   ]
  },
  {
   "cell_type": "code",
   "execution_count": 121,
   "metadata": {},
   "outputs": [
    {
     "name": "stdout",
     "output_type": "stream",
     "text": [
      "(6083, 13)\n",
      "['genre' 'duration' 'country' 'language' 'votes' 'budget'\n",
      " 'usa_gross_income' 'worlwide_gross_income']\n"
     ]
    },
    {
     "data": {
      "image/png": "[encoded data removed]",
      "text/plain": [
       "<Figure size 1296x288 with 1 Axes>"
      ]
     },
     "metadata": {
      "needs_background": "light"
     },
     "output_type": "display_data"
    },
    {
     "name": "stdout",
     "output_type": "stream",
     "text": [
      "(100, 8)\n",
      "(100, 2)\n"
     ]
    }
   ],
   "source": [
    "# Doesn't Work\n",
    "\n",
    "data = pd.read_csv('movieData.csv')\n",
    "headers = data.columns\n",
    "#print(headers)\n",
    "\n",
    "\n",
    "\n",
    "dataArray = data.values\n",
    "array = np.zeros((dataArray.shape[0], dataArray.shape[1]-2))\n",
    "print(np.shape(array))\n",
    "X = dataArray[:,(3, 4, 5, 6, 8, 9, 10, 11)]\n",
    "X = X.astype('double')\n",
    "Y = dataArray[:,7]\n",
    "Y = Y.astype('double')\n",
    "\n",
    "lasso = Lasso().fit(X, Y)\n",
    "importance = np.abs(lasso.coef_)\n",
    "feature_names = np.array(headers)[np.array([3, 4, 5, 6, 8, 9, 10, 11])]\n",
    "print(feature_names)\n",
    "plt.bar(height=importance, x=feature_names)\n",
    "plt.title(\"Feature importances via coefficients\")\n",
    "plt.show()\n",
    "\n",
    "x = sfs_forward.transform(X)\n",
    "print(np.shape(X))\n",
    "print(np.shape(x))\n",
    "\n",
    "\n"
   ]
  }
 ],
 "metadata": {
  "accelerator": "TPU",
  "colab": {
   "collapsed_sections": [],
   "name": "HW3_student_v4.ipynb",
   "provenance": []
  },
  "interpreter": {
   "hash": "f92044c759060aa9415554cca52d08b8cabe1752aed1786f0486d8d814e0857f"
  },
  "kernelspec": {
   "display_name": "Python 3.8.8 64-bit ('base': conda)",
   "name": "python3"
  },
  "language_info": {
   "codemirror_mode": {
    "name": "ipython",
    "version": 3
   },
   "file_extension": ".py",
   "mimetype": "text/x-python",
   "name": "python",
   "nbconvert_exporter": "python",
   "pygments_lexer": "ipython3",
   "version": "3.8.8"
  },
  "latex_envs": {
   "LaTeX_envs_menu_present": true,
   "autocomplete": true,
   "bibliofile": "biblio.bib",
   "cite_by": "apalike",
   "current_citInitial": 1,
   "eqLabelWithNumbers": true,
   "eqNumInitial": 1,
   "hotkeys": {
    "equation": "Ctrl-E",
    "itemize": "Ctrl-I"
   },
   "labels_anchors": false,
   "latex_user_defs": false,
   "report_style_numbering": false,
   "user_envs_cfg": false
  }
 },
 "nbformat": 4,
 "nbformat_minor": 1
}
