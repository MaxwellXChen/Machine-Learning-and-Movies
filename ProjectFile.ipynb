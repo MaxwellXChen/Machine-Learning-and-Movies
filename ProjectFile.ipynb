{
 "cells": [
  {
   "cell_type": "code",
   "execution_count": 2,
   "metadata": {
    "ExecuteTime": {
     "end_time": "2019-06-22T17:18:34.536577Z",
     "start_time": "2019-06-22T17:18:34.485825Z"
    },
    "colab": {},
    "colab_type": "code",
    "id": "XMefd5nTi4Zv",
    "run_control": {
     "frozen": false,
     "read_only": false
    }
   },
   "outputs": [],
   "source": [
    "import os\n",
    "from scipy import ndimage, misc\n",
    "from matplotlib import pyplot as plt\n",
    "import numpy as np\n",
    "import pandas as pd\n",
    "from sklearn.feature_selection import SelectKBest\n",
    "from sklearn.feature_selection import RFE\n",
    "from sklearn.linear_model import LogisticRegression\n",
    "from sklearn.linear_model import Ridge\n",
    "from sklearn.feature_selection import SequentialFeatureSelector as SFS\n",
    "\n"
   ]
  },
  {
   "cell_type": "code",
   "execution_count": 25,
   "metadata": {},
   "outputs": [
    {
     "name": "stdout",
     "output_type": "stream",
     "text": [
      "original_title\n",
      "year\n",
      "genre\n",
      "duration\n",
      "country\n",
      "language\n",
      "avg_vote\n",
      "votes\n",
      "budget\n",
      "usa_gross_income\n",
      "worlwide_gross_income\n",
      "metascore\n",
      "(6083, 13)\n",
      "Fitting estimator with 9 features.\n",
      "Fitting estimator with 8 features.\n",
      "Fitting estimator with 7 features.\n",
      "Fitting estimator with 6 features.\n",
      "Fitting estimator with 5 features.\n",
      "Fitting estimator with 4 features.\n",
      "Fitting estimator with 3 features.\n",
      "Num Features: 2\n",
      "(15, 1)\n",
      "Feature Ranking: [['year']\n",
      " ['genre']\n",
      " ['duration']\n",
      " ['country']\n",
      " ['language']\n",
      " ['avg_vote']\n",
      " ['votes']\n",
      " ['budget']\n",
      " ['metascore']]\n",
      "[3 1 4 6 2 1 7 8 5]\n",
      "Features selected by forward sequential selection: ['country' 'language' 'votes' 'budget']\n"
     ]
    }
   ],
   "source": [
    "data = pd.read_csv('movieData.csv')\n",
    "headers = data.head()\n",
    "\n",
    "headers = np.array(data.columns)\n",
    "for i in (1, 2, 3, 4, 5, 6, 7, 8, 9, 10, 11, 12) :\n",
    "    print(headers[i])\n",
    "\n",
    "#Prepare Average Vote\n",
    "dataArray = data.values\n",
    "array = np.zeros((dataArray.shape[0], dataArray.shape[1]-2))\n",
    "print(np.shape(array))\n",
    "X = dataArray[:,(2, 3, 4, 5, 6, 7, 8, 9, 12)]\n",
    "X = X.astype('double')\n",
    "Y = dataArray[:,11]\n",
    "Y = Y.astype('double')\n",
    "\n",
    "\"\"\"\n",
    "# Reverse Feature Selection with Logistic Regression\n",
    "model = LogisticRegression()\n",
    "rfe = RFE(model, 1, verbose = 1)\n",
    "fit = rfe.fit(X, Y)\n",
    "print(\"Num Features: %s\" % (fit.n_features_))\n",
    "print(\"Selected Features: %s\" % (fit.support_))\n",
    "print(\"Feature Ranking: %s\" % (fit.ranking_))\n",
    "\"\"\"\n",
    "\n",
    "# Recursive Feature Elimination with Ridge Regression\n",
    "model = Ridge(normalize=True)\n",
    "rfe = RFE(model, n_features_to_select = 2, verbose = 1)\n",
    "fit = rfe.fit(X, Y)\n",
    "print(\"Num Features: %s\" % (fit.n_features_))\n",
    "#print(\"Selected Features: %s\" % (fit.support_))\n",
    "headers = np.reshape(headers,newshape=(np.shape(headers)[0],1))\n",
    "print(np.shape(headers))\n",
    "print(\"Feature Ranking: %s\" % headers[np.array([2, 3, 4, 5, 6, 7, 8, 9, 12])])\n",
    "print(fit.ranking_)\n",
    "\n",
    "\n",
    "sfs_forward = SFS(model.fit(X,Y), n_features_to_select=4, direction=\"forward\").fit(X, Y)\n",
    "scores = sfs_forward\n",
    "#print(scores)\n",
    "feature_names = np.array(data.columns)\n",
    "feature_names = feature_names[np.array([2, 3, 4, 5, 6, 7, 8, 9, 12])]\n",
    "#print(feature_names)\n",
    "print(\n",
    "    \"Features selected by forward sequential selection: \"\n",
    "    f\"{feature_names[sfs_forward.get_support()]}\"\n",
    ")\n",
    "\n",
    "\n",
    "\n",
    "\n",
    "\n"
   ]
  },
  {
   "cell_type": "code",
   "execution_count": 26,
   "metadata": {},
   "outputs": [],
   "source": [
    "\n",
    "import matplotlib.pyplot as plt\n",
    "plt.rcParams[\"figure.figsize\"] = (18,4)\n"
   ]
  },
  {
   "cell_type": "code",
   "execution_count": 119,
   "metadata": {},
   "outputs": [
    {
     "name": "stdout",
     "output_type": "stream",
     "text": [
      "original_title\n",
      "year\n",
      "genre\n",
      "duration\n",
      "country\n",
      "language\n",
      "avg_vote\n",
      "votes\n",
      "budget\n",
      "usa_gross_income\n",
      "worlwide_gross_income\n",
      "metascore\n",
      "Index(['title', 'original_title', 'year', 'genre', 'duration', 'country',\n",
      "       'language', 'avg_vote', 'votes', 'budget', 'usa_gross_income',\n",
      "       'worlwide_gross_income', 'metascore', 'reviews_from_users',\n",
      "       'reviews_from_critics'],\n",
      "      dtype='object')\n"
     ]
    },
    {
     "data": {
      "image/png": "[encoded data removed]",
      "text/plain": [
       "<Figure size 1296x288 with 1 Axes>"
      ]
     },
     "metadata": {
      "needs_background": "light"
     },
     "output_type": "display_data"
    },
    {
     "name": "stdout",
     "output_type": "stream",
     "text": [
      "Features selected by SelectFromModel: ['year' 'duration']\n",
      "Features selected by forward sequential selection: ['duration' 'language' 'budget']\n",
      "Features selected by backward sequential selection: ['duration' 'language' 'budget']\n"
     ]
    }
   ],
   "source": [
    "## Feature Selection with LASSO Regression (IMDb Score)\n",
    "\n",
    "import matplotlib.pyplot as plt\n",
    "import numpy as np\n",
    "from sklearn.linear_model import LassoCV\n",
    "from sklearn.feature_selection import SelectFromModel as SFM\n",
    "from sklearn.feature_selection import SequentialFeatureSelector as SFS\n",
    "from sklearn.linear_model import LogisticRegression\n",
    "from sklearn.metrics import classification_report, confusion_matrix\n",
    "\n",
    "data = pd.read_csv('movieData.csv')\n",
    "headers = data.head()\n",
    "\n",
    "headers = list(data.columns)\n",
    "for i in (1, 2, 3, 4, 5, 6, 7, 8, 9, 10, 11, 12) :\n",
    "    print(headers[i])\n",
    "\n",
    "\n",
    "#Initialize Data\n",
    "data = pd.read_csv('movieData.csv')\n",
    "print(data.columns)\n",
    "dataArray = data.values\n",
    "#print(np.shape(array))\n",
    "ind = (2, 3, 4, 5, 6, 9)\n",
    "X = dataArray[:,ind]\n",
    "X = X.astype('double') / X.max(axis=0)\n",
    "Y1 = dataArray[:,7]\n",
    "Y1 = Y1.astype('double') / Y1.max(axis=0)\n",
    "\n",
    "#LassoCV Fit\n",
    "lasso = LassoCV().fit(X, Y1)\n",
    "importance = np.abs(lasso.coef_)\n",
    "feature_names = np.array(headers)[np.array(np.array(ind))]\n",
    "\n",
    "plt.bar(height=importance, x=feature_names)\n",
    "plt.title(\"Feature importances via coefficients (IMDb)\")\n",
    "plt.show()\n",
    "\n",
    "thresh = np.sort(importance)[-3] + 0.01\n",
    "\n",
    "sfm = SFM(lasso, threshold=thresh).fit(X, Y1)\n",
    "print(f\"Features selected by SelectFromModel: {feature_names[sfm.get_support()]}\")\n",
    "\n",
    "\n",
    "sfs_forward = SFS(lasso, n_features_to_select=3, direction=\"forward\").fit(X, Y1)\n",
    "\n",
    "sfs_backward = SFS(lasso, n_features_to_select=3, direction=\"backward\").fit(X, Y1)\n",
    "\n",
    "print(\"Features selected by forward sequential selection: \" f\"{feature_names[sfs_forward.get_support()]}\")\n",
    "\n",
    "print(\"Features selected by backward sequential selection: \" f\"{feature_names[sfs_backward.get_support()]}\")\n",
    "\n",
    "\n",
    "\n"
   ]
  },
  {
   "cell_type": "code",
   "execution_count": 120,
   "metadata": {},
   "outputs": [
    {
     "name": "stdout",
     "output_type": "stream",
     "text": [
      "original_title\n",
      "year\n",
      "genre\n",
      "duration\n",
      "country\n",
      "language\n",
      "avg_vote\n",
      "votes\n",
      "budget\n",
      "usa_gross_income\n",
      "worlwide_gross_income\n",
      "metascore\n",
      "Index(['title', 'original_title', 'year', 'genre', 'duration', 'country',\n",
      "       'language', 'avg_vote', 'votes', 'budget', 'usa_gross_income',\n",
      "       'worlwide_gross_income', 'metascore', 'reviews_from_users',\n",
      "       'reviews_from_critics'],\n",
      "      dtype='object')\n"
     ]
    },
    {
     "data": {
      "image/png": "[encoded data removed]",
      "text/plain": [
       "<Figure size 1296x288 with 1 Axes>"
      ]
     },
     "metadata": {
      "needs_background": "light"
     },
     "output_type": "display_data"
    },
    {
     "name": "stdout",
     "output_type": "stream",
     "text": [
      "Features selected by SelectFromModel: ['votes' 'budget']\n",
      "Features selected by forward sequential selection: ['votes' 'budget' 'metascore']\n",
      "Features selected by backward sequential selection: ['votes' 'budget' 'metascore']\n"
     ]
    }
   ],
   "source": [
    "## Feature Selection with LASSO Regression (Worldwide Gross)\n",
    "\n",
    "import matplotlib.pyplot as plt\n",
    "import numpy as np\n",
    "from sklearn.linear_model import LassoCV\n",
    "from sklearn.feature_selection import SelectFromModel as SFM\n",
    "from sklearn.feature_selection import SequentialFeatureSelector as SFS\n",
    "from sklearn.linear_model import LogisticRegression\n",
    "from sklearn.metrics import classification_report, confusion_matrix\n",
    "\n",
    "data = pd.read_csv('movieData.csv')\n",
    "headers = data.head()\n",
    "\n",
    "headers = list(data.columns)\n",
    "for i in (1, 2, 3, 4, 5, 6, 7, 8, 9, 10, 11, 12) :\n",
    "    print(headers[i])\n",
    "\n",
    "\n",
    "#Initialize Data\n",
    "data = pd.read_csv('movieData.csv')\n",
    "print(data.columns)\n",
    "dataArray = data.values\n",
    "#print(np.shape(array))\n",
    "ind = (2, 3, 4, 5, 6, 7, 8, 9, 12)\n",
    "X = dataArray[:,ind]\n",
    "X = X.astype('double') / X.max(axis=0)\n",
    "Y1 = dataArray[:,11]\n",
    "Y1 = Y1.astype('double') / Y1.max(axis=0)\n",
    "\n",
    "#LassoCV Fit\n",
    "lasso = LassoCV().fit(X, Y1)\n",
    "importance = np.abs(lasso.coef_)\n",
    "feature_names = np.array(headers)[np.array(np.array(ind))]\n",
    "\n",
    "plt.bar(height=importance, x=feature_names)\n",
    "plt.title(\"Feature importances via coefficients (Worldwide Gross)\")\n",
    "plt.show()\n",
    "\n",
    "thresh = np.sort(importance)[-3] + 0.01\n",
    "\n",
    "sfm = SFM(lasso, threshold=thresh).fit(X, Y1)\n",
    "print(f\"Features selected by SelectFromModel: {feature_names[sfm.get_support()]}\")\n",
    "\n",
    "\n",
    "sfs_forward = SFS(lasso, n_features_to_select=3, direction=\"forward\").fit(X, Y1)\n",
    "\n",
    "sfs_backward = SFS(lasso, n_features_to_select=3, direction=\"backward\").fit(X, Y1)\n",
    "\n",
    "print(\"Features selected by forward sequential selection: \" f\"{feature_names[sfs_forward.get_support()]}\")\n",
    "\n",
    "print(\"Features selected by backward sequential selection: \" f\"{feature_names[sfs_backward.get_support()]}\")"
   ]
  },
  {
   "cell_type": "code",
   "execution_count": null,
   "metadata": {},
   "outputs": [],
   "source": [
    "### SVM Attempt\n",
    "\n",
    "import numpy as np\n",
    "from sklearn.svm import SVR\n",
    "import matplotlib.pyplot as plt\n",
    "from sklearn.preprocessing import StandardScaler\n",
    "\n",
    "\n",
    "#Initialize Data\n",
    "data = pd.read_csv('movieData.csv')\n",
    "#print(data.columns)\n",
    "dataArray = data.values\n",
    "#print(np.shape(array))\n",
    "i = int(np.shape(dataArray)[0]*.8)\n",
    "XR = dataArray[0:i,(9,10)]\n",
    "X = XR.astype(\"float\") / XR.max(axis=0)\n",
    "yR = dataArray[0:i,11]\n",
    "y = np.float64(yR) / yR.max(axis=0)\n",
    "\n",
    "SC = StandardScaler()\n",
    "X = SC.fit_transform(XR)\n",
    "yR = yR.reshape(-1, 1)\n",
    "y = SC.fit_transform(yR)\n",
    "\n",
    "# Fit regression model\n",
    "svr_rbf = SVR(kernel=\"rbf\", C=.1, gamma=1e-6, epsilon=0.1)\n",
    "svr_rbf.fit(X,y)\n",
    "\n",
    "#Plot Results\n",
    "X_test = dataArray[i:np.shape(dataArray)[0],(9,10)]\n",
    "Y_test = dataArray[i:np.shape(dataArray)[0],11]\n",
    "\n",
    "y_pred = svr_rbf.predict(X_test)\n",
    "print(y_pred)\n",
    "print(yR.max(axis=0))\n",
    "y_pred = y_pred * yR.max(axis=0)\n",
    "\n",
    "#Visualize\n",
    "print(np.shape(X_test))\n",
    "print(np.shape(y_pred))\n",
    "fig = plt.figure(figsize=(18, 18))\n",
    "ax = fig.add_subplot(projection='3d')\n",
    "ax.scatter(X_test[:,0], X_test[:,1],y_pred)\n",
    "plt.show()\n",
    "print(np.ptp(y_pred))"
   ]
  }
 ],
 "metadata": {
  "accelerator": "TPU",
  "colab": {
   "collapsed_sections": [],
   "name": "HW3_student_v4.ipynb",
   "provenance": []
  },
  "interpreter": {
   "hash": "f92044c759060aa9415554cca52d08b8cabe1752aed1786f0486d8d814e0857f"
  },
  "kernelspec": {
   "display_name": "Python 3.8.8 64-bit ('base': conda)",
   "name": "python3"
  },
  "language_info": {
   "codemirror_mode": {
    "name": "ipython",
    "version": 3
   },
   "file_extension": ".py",
   "mimetype": "text/x-python",
   "name": "python",
   "nbconvert_exporter": "python",
   "pygments_lexer": "ipython3",
   "version": "3.8.8"
  },
  "latex_envs": {
   "LaTeX_envs_menu_present": true,
   "autocomplete": true,
   "bibliofile": "biblio.bib",
   "cite_by": "apalike",
   "current_citInitial": 1,
   "eqLabelWithNumbers": true,
   "eqNumInitial": 1,
   "hotkeys": {
    "equation": "Ctrl-E",
    "itemize": "Ctrl-I"
   },
   "labels_anchors": false,
   "latex_user_defs": false,
   "report_style_numbering": false,
   "user_envs_cfg": false
  }
 },
 "nbformat": 4,
 "nbformat_minor": 1
}
