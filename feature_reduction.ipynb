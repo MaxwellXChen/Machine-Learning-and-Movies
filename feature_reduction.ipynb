{
 "cells": [
  {
   "cell_type": "code",
   "execution_count": 2,
   "source": [
    "import pandas as pd\n",
    "from feature_reduction import FeatureReduction\n",
    "\n",
    "input = \"movieData.csv\"\n",
    "data = pd.read_csv(input)\n",
    "data = data.fillna(method='ffill')\n",
    "data = data.fillna(method='bfill')\n",
    "data = data.drop(['title','original_title', 'year', 'metascore'], 1)\n",
    "\n",
    "X = data.drop('avg_vote', 1)\n",
    "y = data['avg_vote']\n",
    "\n",
    "#X = data.drop('metascore', 1)\n",
    "#y = data['metascore']\n",
    "\n",
    "featurereduction = FeatureReduction()\n",
    "print(\"Features selected by forward selection:\", featurereduction.forward_selection(X,y))\n",
    "print(\"Features selected by backward selection:\", featurereduction.backward_elimination(X,y))\n"
   ],
   "outputs": [
    {
     "output_type": "stream",
     "name": "stdout",
     "text": [
      "Features selected by forward selection: ['votes', 'duration', 'budget', 'reviews_from_critics', 'reviews_from_users', 'usa_gross_income', 'language']\n",
      "Features selected by backward selection: ['duration', 'language', 'votes', 'budget', 'usa_gross_income', 'reviews_from_users', 'reviews_from_critics']\n"
     ]
    }
   ],
   "metadata": {}
  }
 ],
 "metadata": {
  "colab": {
   "collapsed_sections": [],
   "name": "HW_Template.ipynb",
   "provenance": []
  },
  "interpreter": {
   "hash": "9f0a38f7d3b5c86d537d91379c551ab57dcfec3db4f5052a5ccc1ba7d5d22bef"
  },
  "kernelspec": {
   "name": "python3",
   "display_name": "Python 3.8.8 64-bit ('base': conda)"
  },
  "language_info": {
   "codemirror_mode": {
    "name": "ipython",
    "version": 3
   },
   "file_extension": ".py",
   "mimetype": "text/x-python",
   "name": "python",
   "nbconvert_exporter": "python",
   "pygments_lexer": "ipython3",
   "version": "3.8.8"
  }
 },
 "nbformat": 4,
 "nbformat_minor": 4
}